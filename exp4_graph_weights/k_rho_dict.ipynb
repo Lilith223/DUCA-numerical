{
 "cells": [
  {
   "cell_type": "code",
   "execution_count": null,
   "id": "9cf00113",
   "metadata": {},
   "outputs": [],
   "source": [
    "# first k's\n",
    "[{'UDC_New1': [9, 7, 6, 5, 8, 3], 'UDC_PEXTRA': [2, 2, 2, 2, 2, 2], 'UDC_PGC': [6, 27, 21, 11, 6, 6], 'UDC_DistADMM': [5, 7, 14, 4, 2, 2], 'ALT': [2, 2, 2, 2, 2, 2]}, \n",
    "{'UDC_New1': [10, 14, 14, 23, 17, 41], 'UDC_PEXTRA': [2, 18, 20, 35, 12, 28], 'UDC_PGC': [16, 31, 25, 13, 29, 13], 'UDC_DistADMM': [21, 24, 43, 51, 83, 16], 'ALT': [2, 2, 17, 17, 12, 52]}, \n",
    "{'UDC_New1': [23, 109, 14, 25, 78, 41], 'UDC_PEXTRA': [28, 118, 60, 45, 12, 73], 'UDC_PGC': [34, 75, 105, 40, 29, 41], 'UDC_DistADMM': [85, 197, 86, 74, 191, 16], 'ALT': [35, 200, 101, 238, 48, 405]}, \n",
    "{'UDC_New1': [46, 153, 177, 61, 182, 90], 'UDC_PEXTRA': [47, 148, 176, 89, 137, 153], 'UDC_PGC': [34, 183, 174, 53, 120, 41], 'UDC_DistADMM': [206, 1008, 181, 187, 668, 279], 'ALT': [67, 451, 280, 615, 418, 411]}]\n",
    "\n",
    "# best rho's\n",
    "[\n",
    "    {'UDC_New1': {'complete_graph': 0.5, 'geometric_random_graph': 0.5, '2_cliques': 0.5, 'erdos_renyi_graph': 0.5, 'ring_graph': 1, 'spanning_tree': 0.5}, \n",
    "    'UDC_PEXTRA': {'complete_graph': 0.125, 'geometric_random_graph': 0.125, '2_cliques': 0.125, 'erdos_renyi_graph': 0.125, 'ring_graph': 0.125, 'spanning_tree': 0.125}, \n",
    "    'UDC_PGC': {'complete_graph': 0.0078125, 'geometric_random_graph': 0.125, '2_cliques': 0.125, 'erdos_renyi_graph': 0.125, 'ring_graph': 0.25, 'spanning_tree': 0.25}, \n",
    "    'UDC_DistADMM': {'complete_graph': 0.0078125, 'geometric_random_graph': 0.0625, '2_cliques': 0.125, 'erdos_renyi_graph': 0.125, 'ring_graph': 0.0625, 'spanning_tree': 0.125}, \n",
    "    'ALT': {'complete_graph': 0.125, 'geometric_random_graph': 0.125, '2_cliques': 0.125, 'erdos_renyi_graph': 0.125, 'ring_graph': 0.125, 'spanning_tree': 0.125}}, \n",
    "    \n",
    "    {'UDC_New1': {'complete_graph': 0.5, 'geometric_random_graph': 1, '2_cliques': 1, 'erdos_renyi_graph': 0.5, 'ring_graph': 2, 'spanning_tree': 2}, \n",
    "    'UDC_PEXTRA': {'complete_graph': 0.125, 'geometric_random_graph': 1, '2_cliques': 1, 'erdos_renyi_graph': 0.25, 'ring_graph': 1, 'spanning_tree': 2}, \n",
    "    'UDC_PGC': {'complete_graph': 0.015625, 'geometric_random_graph': 0.125, '2_cliques': 0.125, 'erdos_renyi_graph': 0.125, 'ring_graph': 1, 'spanning_tree': 0.5}, \n",
    "    'UDC_DistADMM': {'complete_graph': 0.03125, 'geometric_random_graph': 0.125, '2_cliques': 0.25, 'erdos_renyi_graph': 0.25, 'ring_graph': 4, 'spanning_tree': 1}, \n",
    "    'ALT': {'complete_graph': 0.125, 'geometric_random_graph': 0.125, '2_cliques': 1, 'erdos_renyi_graph': 1, 'ring_graph': 1, 'spanning_tree': 4}}, \n",
    "    \n",
    "    {'UDC_New1': {'complete_graph': 1, 'geometric_random_graph': 2, '2_cliques': 1, 'erdos_renyi_graph': 0.5, 'ring_graph': 1, 'spanning_tree': 2}, \n",
    "    'UDC_PEXTRA': {'complete_graph': 0.25, 'geometric_random_graph': 2, '2_cliques': 2, 'erdos_renyi_graph': 2, 'ring_graph': 1, 'spanning_tree': 0.5}, \n",
    "    'UDC_PGC': {'complete_graph': 0.015625, 'geometric_random_graph': 0.25, '2_cliques': 0.25, 'erdos_renyi_graph': 0.125, 'ring_graph': 1, 'spanning_tree': 0.25}, \n",
    "    'UDC_DistADMM': {'complete_graph': 0.03125, 'geometric_random_graph': 1, '2_cliques': 0.5, 'erdos_renyi_graph': 1, 'ring_graph': 8, 'spanning_tree': 1}, \n",
    "    'ALT': {'complete_graph': 0.5, 'geometric_random_graph': 8, '2_cliques': 4, 'erdos_renyi_graph': 8, 'ring_graph': 4, 'spanning_tree': 8}}, \n",
    "    \n",
    "    {'UDC_New1': {'complete_graph': 1, 'geometric_random_graph': 2, '2_cliques': 4, 'erdos_renyi_graph': 0.5, 'ring_graph': 4, 'spanning_tree': 1}, \n",
    "    'UDC_PEXTRA': {'complete_graph': 1, 'geometric_random_graph': 2, '2_cliques': 2, 'erdos_renyi_graph': 2, 'ring_graph': 4, 'spanning_tree': 0.5}, \n",
    "    'UDC_PGC': {'complete_graph': 0.015625, 'geometric_random_graph': 0.25, '2_cliques': 0.25, 'erdos_renyi_graph': 0.125, 'ring_graph': 2, 'spanning_tree': 0.25}, \n",
    "    'UDC_DistADMM': {'complete_graph': 0.03125, 'geometric_random_graph': 4, '2_cliques': 1, 'erdos_renyi_graph': 0.5, 'ring_graph': 16, 'spanning_tree': 4}, \n",
    "    'ALT': {'complete_graph': 0.25, 'geometric_random_graph': 16, '2_cliques': 8, 'erdos_renyi_graph': 8, 'ring_graph': 16, 'spanning_tree': 8}}\n",
    "]\n"
   ]
  }
 ],
 "metadata": {
  "language_info": {
   "name": "python"
  }
 },
 "nbformat": 4,
 "nbformat_minor": 5
}
